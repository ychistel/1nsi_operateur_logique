{
 "cells": [
  {
   "cell_type": "markdown",
   "metadata": {},
   "source": [
    "# Expressions booléennes"
   ]
  },
  {
   "cell_type": "markdown",
   "metadata": {
    "nbgrader": {
     "grade": false,
     "grade_id": "cell-876f1896cd6dbcfc",
     "locked": true,
     "schema_version": 1,
     "solution": false
    }
   },
   "source": [
    "### Exercice\n",
    "\n",
    "Évaluer les expressions booléennes suivantes:\n",
    "\n",
    "1. True AND True\n",
    "2. NOT(False) AND False\n",
    "3. True OR NOT(False)\n",
    "4. True AND False AND True\n",
    "5. NOT(False) OR NOT(True)\n",
    "6. False AND (NOT(True) OR NOT(False))"
   ]
  },
  {
   "cell_type": "code",
   "execution_count": 1,
   "metadata": {
    "nbgrader": {
     "grade": false,
     "grade_id": "cell-137d01c21c7c4f91",
     "locked": false,
     "schema_version": 1,
     "solution": true
    }
   },
   "outputs": [
    {
     "data": {
      "text/plain": [
       "True"
      ]
     },
     "execution_count": 1,
     "metadata": {},
     "output_type": "execute_result"
    }
   ],
   "source": [
    "True and True"
   ]
  },
  {
   "cell_type": "code",
   "execution_count": 5,
   "metadata": {},
   "outputs": [
    {
     "data": {
      "text/plain": [
       "False"
      ]
     },
     "execution_count": 5,
     "metadata": {},
     "output_type": "execute_result"
    }
   ],
   "source": [
    "not(False) and False"
   ]
  },
  {
   "cell_type": "code",
   "execution_count": 4,
   "metadata": {},
   "outputs": [
    {
     "data": {
      "text/plain": [
       "True"
      ]
     },
     "execution_count": 4,
     "metadata": {},
     "output_type": "execute_result"
    }
   ],
   "source": [
    "True or not(False)"
   ]
  },
  {
   "cell_type": "code",
   "execution_count": 6,
   "metadata": {},
   "outputs": [
    {
     "data": {
      "text/plain": [
       "False"
      ]
     },
     "execution_count": 6,
     "metadata": {},
     "output_type": "execute_result"
    }
   ],
   "source": [
    "True and False and True"
   ]
  },
  {
   "cell_type": "code",
   "execution_count": 7,
   "metadata": {},
   "outputs": [
    {
     "data": {
      "text/plain": [
       "True"
      ]
     },
     "execution_count": 7,
     "metadata": {},
     "output_type": "execute_result"
    }
   ],
   "source": [
    "not(False) or not(True)"
   ]
  },
  {
   "cell_type": "code",
   "execution_count": 10,
   "metadata": {},
   "outputs": [
    {
     "data": {
      "text/plain": [
       "True"
      ]
     },
     "execution_count": 10,
     "metadata": {},
     "output_type": "execute_result"
    }
   ],
   "source": [
    "False and (not(True) or not(False))"
   ]
  },
  {
   "cell_type": "markdown",
   "metadata": {
    "nbgrader": {
     "grade": false,
     "grade_id": "cell-b0df621bbdf07c3d",
     "locked": true,
     "schema_version": 1,
     "solution": false
    }
   },
   "source": [
    "### Exercice \n",
    "\n",
    "1. Donner la table de vérité de la fonction logique NOT (XAND Y) qui se note ¬(X∧Y).\n",
    "2. Réaliser le circuit logique de cette fonction logique.\n",
    "3. A-t-on ¬(X∧Y) = ¬X∧¬Y?\n",
    "4. Écrire une fonction logique équivalente à ¬(X∧Y) utilisant le OU.\n",
    "5. Réaliser le circuit logique associé et vérifier vos résultats.\n",
    "6. Déterminer la fonction logique équivalente à ¬(X∨Y)"
   ]
  },
  {
   "cell_type": "markdown",
   "metadata": {
    "nbgrader": {
     "grade": false,
     "grade_id": "cell-b0df621bbdf07c3d",
     "locked": true,
     "schema_version": 1,
     "solution": false
    }
   },
   "source": [
    "1. Table de vérité de NOT(X AND Y)\n",
    "\n",
    "|  X  |  Y  |  X AND Y  |  NOT(X AND Y)  |\n",
    "|:---:|:---:|:---:|:---:|\n",
    "|0|0|0|1|\n",
    "|0|1|0|1|\n",
    "|1|0|0|1|\n",
    "|1|1|1|0|\n",
    "\n",
    "2. Circuit logique de cette fonction logique.\n",
    "\n",
    "![Circuit logique not(x and y)](img/circuit1_ex2.png)\n",
    "\n",
    "3. Table de vérité de NOT(X) AND NOT(Y)\n",
    "\n",
    "|  X  |  Y  |  NOT(X) | NOT(Y)  |  NOT(X) AND NOT(Y) |\n",
    "|:---:|:---:|:---:|:---:|:---:|\n",
    "|0|0|1|1|1|\n",
    "|0|1|1|0|0|\n",
    "|1|0|0|1|0|\n",
    "|1|1|0|0|0|\n",
    "\n",
    "Les tables de vérité ne sont pas les même donc NOT(X) AND NOT(Y) ne vaut pas NOT(X AND Y).\n",
    "\n",
    "4. Table de vérité de NOT(X) OR NOT(Y)\n",
    "\n",
    "|  X  |  Y  |  NOT(X) | NOT(Y)  |  NOT(X) OR NOT(Y) |\n",
    "|:---:|:---:|:---:|:---:|:---:|\n",
    "|0|0|1|1|1|\n",
    "|0|1|1|0|1|\n",
    "|1|0|0|1|1|\n",
    "|1|1|0|0|0|\n",
    "\n",
    "La table de vérité de l'expression NOT(X) OR NOT(Y) est la même que celle de l'expression NOT(X AND Y) donc ces deux expressions sont égales.\n",
    "\n",
    "5. Circuit logique de cette fonction logique.\n",
    "\n",
    "![Circuit logique not(x or y)](img/circuit2_ex2.png)\n",
    "\n",
    "6. Tables de vérité de NOT(X OR Y)\n",
    "\n",
    "|  X  |  Y  |  X OR Y  |  NOT(X OR Y)  |\n",
    "|:---:|:---:|:---:|:---:|\n",
    "|0|0|0|1|\n",
    "|0|1|1|0|\n",
    "|1|0|1|0|\n",
    "|1|1|1|0|\n",
    "\n",
    "Les tables de vérité de NOT(X) OR NOT(Y) ne vaut pas NOT(X OR Y) mais est bien la même que celle de NOT(X) AND NOT(Y).\n",
    "\n",
    "### Conclusion\n",
    "On a l'égalité entre les expressions:\n",
    "\n",
    "- NOT(X OR Y) = NOT(X) AND NOT(Y)\n",
    "- NOT(X AND Y) = NOT(X) OR NOT(Y)\n",
    "\n",
    "Ces égalités sont appelées **lois de Morgan**."
   ]
  },
  {
   "cell_type": "code",
   "execution_count": 13,
   "metadata": {},
   "outputs": [],
   "source": [
    "assert not(True or True) == (not(True) and not(True))\n",
    "assert not(True or False) == (not(True) and not(False))\n",
    "assert not(False or True) == (not(False) and not(True))\n",
    "assert not(False or False) == (not(False) and not(False))"
   ]
  },
  {
   "cell_type": "markdown",
   "metadata": {
    "nbgrader": {
     "grade": false,
     "grade_id": "cell-6b898b817070b7f7",
     "locked": true,
     "schema_version": 1,
     "solution": false
    }
   },
   "source": [
    "### Exercice\n",
    "\n",
    "L’objectif est de créer dans chacun des cas suivants, un circuit logique contenant 3 entrées binaires, des portes\n",
    "logiques NOT, ET, OU et une seule sortie binaire telle que :\n",
    "\n",
    "1. la sortie vaut 0 lorsque les trois entrées sont égales à 0 et 1 dans tous les autres cas.\n",
    "2. la sortie vaut 1 si et seulement si les trois entrées sont égales à 1.\n",
    "3. la sortie vaut 1 si au moins deux entrées sont égales à 1 (sinon la sortie vaut 0)."
   ]
  },
  {
   "cell_type": "markdown",
   "metadata": {},
   "source": [
    "### Exercice\n",
    "\n",
    "1. Créer un circuit logique avec 2 entrées binaires, la porte logique XOR et une seule sortie binaire.\n",
    "2. Dresser la table de vérité de cette fonction logique. En quoi est-elle différente de la fonction logique OU?\n",
    "3. Créer un circuit logique avec 2 entrées binaires, les portes logiques NOT, ET, OU et une seule sortie binaire\n",
    "qui se comporte comme la port logique XOR."
   ]
  },
  {
   "cell_type": "markdown",
   "metadata": {},
   "source": [
    "### Exercice\n",
    "\n",
    "1. a. Dresser la table de vérité de la fonction logique (x∨y) ∨z.    \n",
    "b. Construire un circuit avec les portes logiques OU et vérifier votre table.    \n",
    "c. Le rôle des parenthèses est-il important ?\n",
    "2. a. Dresser la table de vérité de la fonction logique (x∧y) ∧z.    \n",
    "b. Construire un circuit avec les portes logiques ET et vérifier votre table.    \n",
    "c. Le rôle des parenthèses est-il important ?    \n",
    "3. a. Dresser la table de vérité de la fonction logique x∧(y∨z).    \n",
    "b. Construire un circuit avec les portes logiques OU et ET et vérifier votre table.    \n",
    "c. Parmi les fonctions logiques proposées, laquelle donne la même table de vérité que x∧(y∨z), (x∨y) ∧(x∨z) ou (x∧y) ∨(x∧z) ?     \n",
    "d. Réaliser le circuit et vérifier les tables de vérité"
   ]
  },
  {
   "cell_type": "code",
   "execution_count": null,
   "metadata": {},
   "outputs": [],
   "source": []
  }
 ],
 "metadata": {
  "celltoolbar": "Create Assignment",
  "kernelspec": {
   "display_name": "Python 3",
   "language": "python",
   "name": "python3"
  },
  "language_info": {
   "codemirror_mode": {
    "name": "ipython",
    "version": 3
   },
   "file_extension": ".py",
   "mimetype": "text/x-python",
   "name": "python",
   "nbconvert_exporter": "python",
   "pygments_lexer": "ipython3",
   "version": "3.9.4"
  },
  "latex_envs": {
   "bibliofile": "biblio.bib",
   "cite_by": "apalike",
   "current_citInitial": 1,
   "eqLabelWithNumbers": true,
   "eqNumInitial": 0
  }
 },
 "nbformat": 4,
 "nbformat_minor": 2
}
