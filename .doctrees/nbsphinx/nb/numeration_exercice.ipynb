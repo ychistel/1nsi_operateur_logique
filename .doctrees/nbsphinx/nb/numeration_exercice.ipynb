{
 "cells": [
  {
   "cell_type": "markdown",
   "id": "3b9c1ab0",
   "metadata": {},
   "source": [
    "# Exercices sur la numération\n",
    "\n",
    "1. [Cours sur la numération](numeration.ipynb)\n",
    "2. [Cours sur la conversion](numeration_conversion.ipynb)"
   ]
  },
  {
   "cell_type": "markdown",
   "id": "fea2e281",
   "metadata": {},
   "source": [
    "## Exercice\n",
    "\n",
    "Donner l'écriture décimale des nombres entiers positifs codés en binaire.\n",
    "\n",
    "1. $101_{2}$\n",
    "2. $10111_{2}$\n",
    "3. $11001101_{2}$"
   ]
  },
  {
   "cell_type": "markdown",
   "id": "08c1192d",
   "metadata": {},
   "source": [
    "## Exercice\n",
    "\n",
    "Donner l'écriture binaire des nombres entiers positfs écrits en décimal.\n",
    "\n",
    "1. $54$\n",
    "2. $132$\n",
    "3. $245$"
   ]
  },
  {
   "cell_type": "markdown",
   "id": "632c0eb1",
   "metadata": {},
   "source": [
    "## Exercice\n",
    "\n",
    "Convertir en notation binaires les nombres hexadécimaux suivants:\n",
    "\n",
    "1. $16_{16}$\n",
    "2. $3B_{16}$\n",
    "3. $5E1_{16}$"
   ]
  },
  {
   "cell_type": "markdown",
   "id": "6e40e6ca",
   "metadata": {},
   "source": [
    "## Exercice\n",
    "\n",
    "Convertir en notation hexadécimale les nombres binaires suivants:\n",
    "\n",
    "1. $10101_{2}$\n",
    "2. $100100_{2}$\n",
    "3. $111100001111_{2}$"
   ]
  },
  {
   "cell_type": "markdown",
   "id": "1a0ea3b3",
   "metadata": {},
   "source": [
    "## Exercice\n",
    "\n",
    "Convertir en notation décimale les nombres suivants écrits en notation hexadécimale:\n",
    "\n",
    "1. $3E_{16}$\n",
    "2. $4F8_{16}$\n",
    "3. $A53C_{16}$"
   ]
  },
  {
   "cell_type": "markdown",
   "id": "56f501e6",
   "metadata": {},
   "source": [
    "## Exercice\n",
    "\n",
    "Convertir en écriture hexadécimale les nombres suivants:\n",
    "\n",
    "1. $168_{10}$\n",
    "2. $1001_{10}$\n",
    "3. $1616_{10}$"
   ]
  }
 ],
 "metadata": {
  "celltoolbar": "Format de la Cellule Texte Brut",
  "kernelspec": {
   "display_name": "Python 3",
   "language": "python",
   "name": "python3"
  },
  "language_info": {
   "codemirror_mode": {
    "name": "ipython",
    "version": 3
   },
   "file_extension": ".py",
   "mimetype": "text/x-python",
   "name": "python",
   "nbconvert_exporter": "python",
   "pygments_lexer": "ipython3",
   "version": "3.9.4"
  }
 },
 "nbformat": 4,
 "nbformat_minor": 5
}
