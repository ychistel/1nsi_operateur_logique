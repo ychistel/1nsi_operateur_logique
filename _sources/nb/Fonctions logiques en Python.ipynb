{
 "cells": [
  {
   "cell_type": "markdown",
   "metadata": {
    "nbgrader": {
     "grade": false,
     "grade_id": "cell-ca192147bad3db12",
     "locked": true,
     "schema_version": 1,
     "solution": false
    }
   },
   "source": [
    "# Fonctions logiques\n",
    "\n",
    "\n",
    "# Utilisation des fonctions logiques en python\n",
    "\n",
    "Python posséde les opérateurs suivants:\n",
    "\n",
    "|opérateur|symbolique|syntaxe Python|\n",
    "|:-|:-:|-:|\n",
    "|NON|$\\bar{a}$|`not(a)`|\n",
    "|ET|$a\\times b$|`a and b`|\n",
    "|OU|$a + b$|`a or b`|\n",
    "|XOR|$a\\oplus b$|non implémentée|\n",
    "\n",
    "Quelques exemples :"
   ]
  },
  {
   "cell_type": "code",
   "execution_count": 1,
   "metadata": {
    "nbgrader": {
     "grade": false,
     "grade_id": "cell-df37d8f4e73c6285",
     "locked": true,
     "schema_version": 1,
     "solution": false
    }
   },
   "outputs": [
    {
     "name": "stdout",
     "output_type": "stream",
     "text": [
      "1 :  False\n",
      "2 :  False\n",
      "3 :  True\n"
     ]
    }
   ],
   "source": [
    "a = True\n",
    "b = False\n",
    "print(\"1 : \", not(a))\n",
    "print(\"2 : \", a and b)\n",
    "print(\"3 : \", a or b)"
   ]
  },
  {
   "cell_type": "markdown",
   "metadata": {
    "nbgrader": {
     "grade": false,
     "grade_id": "cell-b91e986f442c4e69",
     "locked": true,
     "schema_version": 1,
     "solution": false
    }
   },
   "source": [
    "Cependant, pour utiliser le OU EXCLUSIF (xor) , il faut utiliser soit une bibliothèque complémentaire, soit définir soit même sa fonction. \n",
    "C'est donc ce que vous allez devoir faire : definir une fonction `xor(a,b)` qui prend deux boolèns en arguments en renvoie un boolèen correspondant à la table de vérité du XOR :\n",
    "\n",
    "|  a  |   b   |   S   |\n",
    "|:-:|:-:|:-:|\n",
    "|0|0|0|\n",
    "|0|1|1|\n",
    "|1|0|1|\n",
    "|1|1|0|\n",
    "\n",
    "On peut pour cela utiliser la relation $a\\oplus b = (a\\times \\bar{b}) + (\\bar{a} \\times b)$"
   ]
  },
  {
   "cell_type": "code",
   "execution_count": null,
   "metadata": {
    "nbgrader": {
     "grade": false,
     "grade_id": "cell-ab182df9e6ff4415",
     "locked": false,
     "schema_version": 1,
     "solution": true
    }
   },
   "outputs": [],
   "source": [
    "def XOR(a,b) :\n",
    "    ### BEGIN SOLUTION\n",
    "    x = (a and not(b)) or (not(a) and b)\n",
    "    return(x)\n",
    "    ### END SOLUTION"
   ]
  },
  {
   "cell_type": "markdown",
   "metadata": {
    "nbgrader": {
     "grade": false,
     "grade_id": "cell-6b4cdee3aeedcdc5",
     "locked": true,
     "schema_version": 1,
     "solution": false
    }
   },
   "source": [
    "Testons maintenant notre fonction pour qu'elle réponde bien à la table de vérité du OU EXCLUSIF :"
   ]
  },
  {
   "cell_type": "code",
   "execution_count": null,
   "metadata": {
    "nbgrader": {
     "grade": true,
     "grade_id": "cell-063b493fafc28407",
     "locked": true,
     "points": 1,
     "schema_version": 1,
     "solution": false
    }
   },
   "outputs": [],
   "source": [
    "assert XOR(False,False)==False\n",
    "assert XOR(False,True)==True\n",
    "assert XOR(True,False)==True\n",
    "assert XOR(True,True)==False"
   ]
  },
  {
   "cell_type": "markdown",
   "metadata": {
    "nbgrader": {
     "grade": false,
     "grade_id": "cell-40fbf0dc589d90ec",
     "locked": true,
     "schema_version": 1,
     "solution": false
    }
   },
   "source": [
    "## 2. Egalité de fonctions logiques\n",
    "On souhaite tester une relation logique appelée **théorème de Morgan** qui dit :\n",
    "\n",
    "$$\\bar{A+B}=\\bar{A} \\times \\bar{B}$$\n",
    "\n",
    "Pour cela vous devez créer deux fonctions :\n",
    "- `logique1(A,B)`, qui correspond au premier terme de l'égalité du théorème de Morgan \n",
    "- `logique2(A,B)`, qui correspond au second terme de l'égalité du théorème de Morgan.\n",
    "\n",
    "Les tests unitaires testerons ensuite l'égalité des deux fonctions."
   ]
  },
  {
   "cell_type": "code",
   "execution_count": null,
   "metadata": {
    "nbgrader": {
     "grade": false,
     "grade_id": "cell-4a8e1435b1043fa4",
     "locked": false,
     "schema_version": 1,
     "solution": true
    }
   },
   "outputs": [],
   "source": [
    "def logique1(A,B) :\n",
    "    ### BEGIN SOLUTION\n",
    "    x = not(A or B)\n",
    "    return(x)\n",
    "    ### END SOLUTION\n",
    "    \n",
    "def logique2(A,B) :\n",
    "    ### BEGIN SOLUTION\n",
    "    x = not(A) and not(B)\n",
    "    return (x)\n",
    "    ### END SOLUTION"
   ]
  },
  {
   "cell_type": "markdown",
   "metadata": {
    "nbgrader": {
     "grade": false,
     "grade_id": "cell-c7266fb4cfa19367",
     "locked": true,
     "schema_version": 1,
     "solution": false
    }
   },
   "source": [
    "effectuons maintenant les tests qui permettrons de vérifier l'égalité des deux fonctions :"
   ]
  },
  {
   "cell_type": "code",
   "execution_count": null,
   "metadata": {
    "nbgrader": {
     "grade": true,
     "grade_id": "cell-7c0e08253af31468",
     "locked": true,
     "points": 2,
     "schema_version": 1,
     "solution": false
    }
   },
   "outputs": [],
   "source": [
    "assert logique1(False,False)==logique2(False,False)\n",
    "assert logique1(False,True)==logique2(False,True)\n",
    "assert logique1(True,False)==logique2(True,False)\n",
    "assert logique1(True,True)==logique2(True,True)"
   ]
  },
  {
   "cell_type": "markdown",
   "metadata": {
    "nbgrader": {
     "grade": false,
     "grade_id": "cell-3c90295f59ccd79b",
     "locked": true,
     "schema_version": 1,
     "solution": false
    }
   },
   "source": [
    "Remarque : ceci n'est qu'un exercice, vous n'avez pas à connaitre le théorème de Morgan."
   ]
  }
 ],
 "metadata": {
  "celltoolbar": "Create Assignment",
  "kernelspec": {
   "display_name": "Python 3",
   "language": "python",
   "name": "python3"
  },
  "language_info": {
   "codemirror_mode": {
    "name": "ipython",
    "version": 3
   },
   "file_extension": ".py",
   "mimetype": "text/x-python",
   "name": "python",
   "nbconvert_exporter": "python",
   "pygments_lexer": "ipython3",
   "version": "3.9.4"
  },
  "latex_envs": {
   "bibliofile": "biblio.bib",
   "cite_by": "apalike",
   "current_citInitial": 1,
   "eqLabelWithNumbers": true,
   "eqNumInitial": 0
  }
 },
 "nbformat": 4,
 "nbformat_minor": 2
}
