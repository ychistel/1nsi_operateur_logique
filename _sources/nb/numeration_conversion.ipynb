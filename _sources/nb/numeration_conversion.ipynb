{
 "cells": [
  {
   "cell_type": "markdown",
   "id": "f5bf630f",
   "metadata": {},
   "source": [
    "# Convertir des nombres dans différentes bases"
   ]
  },
  {
   "cell_type": "markdown",
   "id": "007f98b7",
   "metadata": {},
   "source": [
    "## Écriture binaire et décimale\n",
    "\n",
    "La conversion d'un nombre entier binaire en écriture décimale se fait en associant à chaque chiffre de l'écriture binaire la puissance de $2$ qui corespond à sa position."
   ]
  },
  {
   "cell_type": "raw",
   "id": "617dc8b9",
   "metadata": {
    "raw_mimetype": "text/restructuredtext"
   },
   "source": [
    "Le tableau ci-dessous redonne les 8 premières puissances de 2, soit pour 1 octet :\n",
    "\n",
    ".. table:: Puissances de 2\n",
    "        :widths: auto\n",
    "        :align: center\n",
    "        \n",
    "        ============= ============= ============= ============= ============= ============= ============= =============\n",
    "        :math:`2^{7}` :math:`2^{6}` :math:`2^{5}` :math:`2^{4}` :math:`2^{3}` :math:`2^{2}` :math:`2^{1}` :math:`2^{0}`\n",
    "        ============= ============= ============= ============= ============= ============= ============= =============\n",
    "        128           64            32            16            8             4             2             1\n",
    "        ============= ============= ============= ============= ============= ============= ============= =============   "
   ]
  },
  {
   "cell_type": "raw",
   "id": "982fa739",
   "metadata": {
    "raw_mimetype": "text/restructuredtext"
   },
   "source": [
    ".. admonition:: Exemple\n",
    "\n",
    "    Le nombre binaire 1101 est associée aux puissances de 2 d'exposant 0, 2 et 3 (de gauche à droite). \n",
    "\n",
    "    .. math::\n",
    "        \n",
    "        1101_{2}=2^{3}+2^{2}+2^{0}=8+4+1=13_{10}\n",
    "        \n",
    "    Donc le nombre binaire 1101 s'écrit 13 en décimal."
   ]
  },
  {
   "cell_type": "markdown",
   "id": "2f8215df",
   "metadata": {},
   "source": [
    "**Inversement** la conversion d'un nombre entier décimal en écriture binaire se fait en décomposant ce nombre en une somme de puissance de $2$, en commençant par la plus grande puissance possible.\n",
    "\n",
    "Voici un algorithme présentant la méthode:\n",
    "\n",
    "    n désigne le nombre en écriture décimale\n",
    "    \n",
    "    Tant que n non nul:\n",
    "        On soustrait la plus grande puissance de 2 au nombre n\n",
    "        On affecte la différence au nombre n.\n",
    "        \n",
    "    On renvoie les différentes puissances de 2 utilisées"
   ]
  },
  {
   "cell_type": "raw",
   "id": "70c9fe97",
   "metadata": {
    "raw_mimetype": "text/restructuredtext"
   },
   "source": [
    ".. admonition:: Exemple\n",
    "\n",
    "    On donne ci-dessous la conversion en binaire du nombre décimal 41:\n",
    "\n",
    "    - :math:`32=2^{5}` est la plus grande puissance de 2 que l'on peut enlever à 41;\n",
    "      il reste :math:`41-32=9`.\n",
    "    - :math:`8=2^{3}` est la plus grande puissance de 2 que l'on peut enlever à 9; \n",
    "      il reste alors :math:`9-8=1`.\n",
    "    - :math:`1=2^{0}` est la plus grande puissance de 2 que l'on peut enlever à 1; \n",
    "      il reste alors :math:`1-1=0`.\n",
    "\n",
    "    Le nombre 41 s'écrit en binaire:\n",
    "    \n",
    "    .. math::\n",
    "    \n",
    "        \\begin{align*}\n",
    "        41_{10} &= 2^{5} + 2^{3} + 2^{0}\\\\\n",
    "        41_{10} &= 1 \\times 2^{5} + 0 \\times 2^{4} + 1 \\times 2^{3} + 0 \\times 2^{2} + 0 \\times 2^{1} + 1 \\times 2^{0}\\\\\n",
    "        41_{10} &= 101001_{2}\n",
    "        \\end{align*}"
   ]
  },
  {
   "cell_type": "raw",
   "id": "67266af2",
   "metadata": {
    "raw_mimetype": "text/restructuredtext"
   },
   "source": [
    ".. tip::\n",
    "\n",
    "    Pour convertir un nombre entier décimal en binaire, on peut remplacer la soustraction par la division euclidienne. En voici l'algorithme:\n",
    "    \n",
    "    .. code::\n",
    "    \n",
    "        n est le nombre décimal à convertir en bianire\n",
    "        \n",
    "        Tant que n est non nul:\n",
    "            On divise n par 2.\n",
    "            On affecte à n le quotient entier obtenu\n",
    "            \n",
    "        On renvoie les restes des divisions en **partant du dernier calculé**.\n",
    "\n",
    "    Ci-dessous les différentes divisions euclidiennes à calculer.\n",
    "\n",
    "    .. image:: img/div-succ-binaire.png\n",
    "        :width: 400px\n",
    "        :align: center\n",
    "    \n",
    "    Comme pour la méthode précédente, on obtient :math:`41_{10}=101001_{2}`."
   ]
  },
  {
   "cell_type": "markdown",
   "id": "b344596b",
   "metadata": {},
   "source": [
    "## Écriture binaire et hexadécimale\n",
    "\n",
    "La conversion d'un nombre binaire en écriture hexadécimale est beaucoup plus simple. \n",
    "\n",
    "On regroupe les chiffres de l'écriture binaire par groupe de 4 bits appelé **quartet**, en commençant par la gauche. \n",
    "Ensuite on convertit chaque quartet en chiffre hexadécimal."
   ]
  },
  {
   "cell_type": "raw",
   "id": "2abd6c06",
   "metadata": {
    "raw_mimetype": "text/restructuredtext"
   },
   "source": [
    ".. admonition:: Exemple\n",
    "\n",
    "    Le nombre 1101001 est écrit sur 7 bits.\n",
    "    \n",
    "    On le décompose en 2 quartets 110 et 1001. On ajoute le bit 0 au début du premier quartet sans que ça change sa valeur. \n",
    "    \n",
    "    On convertit chaque quartet: \n",
    "    \n",
    "    - :math:`0110_{2}=5_{16}` \n",
    "    - :math:`1001_{2}=9_{16}` \n",
    "    \n",
    "    Le nombre binaire 1101001 s'écrit 59 en hexadécimal."
   ]
  },
  {
   "cell_type": "markdown",
   "id": "ea720855",
   "metadata": {},
   "source": [
    "**Inversement**, la conversion en binaire d'un nombre hexadécimal est simple aussi. \n",
    "\n",
    "Chaque chiffre hexadécimal est remplacé par son quartet en binaire. "
   ]
  },
  {
   "cell_type": "raw",
   "id": "bd68c114",
   "metadata": {
    "raw_mimetype": "text/restructuredtext"
   },
   "source": [
    ".. admonition:: Exemple\n",
    "    \n",
    "    Le nombre :math:`A8_{16}` a pour chiffres hexadécimaux A et 8.\n",
    "    \n",
    "    - Le chiffre A se convertit en binaire par 1010;\n",
    "    - le chiffre 8 se convertit en binaire par 1000. \n",
    "    \n",
    "    En associant ces deux quartets, on obtient l'écriture binaire : :math:`A8_{16} = 10101000_{2}`."
   ]
  },
  {
   "cell_type": "markdown",
   "id": "41d2bffc",
   "metadata": {},
   "source": [
    "## Écriture hexadecimale et décimale\n",
    "\n",
    "La conversion d'un nombre en écriture hexadécimale en écriture décimale se fait comme en binaire. Chaque chiffre de l'écriture hexadécimale est multiplié par la puissance de 16 à laquelle correspond sa position."
   ]
  },
  {
   "cell_type": "raw",
   "id": "a7364f71",
   "metadata": {
    "raw_mimetype": "text/restructuredtext"
   },
   "source": [
    "Le tableau ci-dessous redonne les 5 premières puissances de 16 :\n",
    "\n",
    ".. table:: Puissances de 16\n",
    "        :widths: auto\n",
    "        :align: center\n",
    "        \n",
    "        ============== ============== ============== ============== ==============\n",
    "        :math:`16^{4}` :math:`16^{3}` :math:`16^{2}` :math:`16^{1}` :math:`16^{0}` \n",
    "        ============== ============== ============== ============== ==============\n",
    "        65536          4096           256            16             1           \n",
    "        ============== ============== ============== ============== =============="
   ]
  },
  {
   "cell_type": "raw",
   "id": "8e11a5bb",
   "metadata": {
    "raw_mimetype": "text/restructuredtext"
   },
   "source": [
    ".. admonition:: Exemple\n",
    "\n",
    "    Par exemple, le nombre :math:`A8_{16}` se convertit en décimal en effectuant le calcul:\n",
    "    \n",
    "    .. math::\n",
    "    \n",
    "        \\begin{align*}\n",
    "        A8_{16} &= A \\times 16^{1} + 8 \\times 16^{0}\\\\\n",
    "        \\phantom{A8_{16}} &= 10 \\times 16 + 8 \\times 1\\\\\n",
    "        \\phantom{A8_{16}} &= 160+8\\\\\n",
    "        A8_{16} &= 168_{10}\n",
    "        \\end{align*}\n",
    "\n",
    "    Le nombre hexadécimal :math:`A8_{16}` a pour valeur décimale 168."
   ]
  },
  {
   "cell_type": "markdown",
   "id": "09aca248",
   "metadata": {},
   "source": [
    "**Inversement**, la conversion d'un nombre décimal en hexadécimal est plus délicate. On peut utiliser les mêmes méthodes que pour la conversion en binaire, à savoir par soustraction de puissances de $16$ ou les divisions euclidiennes par $16$."
   ]
  },
  {
   "cell_type": "raw",
   "id": "9eb3e0eb",
   "metadata": {
    "raw_mimetype": "text/restructuredtext"
   },
   "source": [
    ".. admonition:: Exemple\n",
    "\n",
    "    Le nombre entier positif 453 se convertit en hexadécimal par :math:`453_{10}=1C5_{16}`. \n",
    "\n",
    "    On donne les divisions successives de la conversion.\n",
    "\n",
    "    .. image:: img/div-succ-hexa.png\n",
    "        :width: 400px\n",
    "        :align: center"
   ]
  },
  {
   "cell_type": "raw",
   "id": "a37ccf56",
   "metadata": {
    "raw_mimetype": "text/restructuredtext"
   },
   "source": [
    ".. tip::\n",
    "\n",
    "    Pour convertir un nombre hexadécimal en décimal et inversement, il est parfois plus simple de passer par l'écriture binaire."
   ]
  },
  {
   "cell_type": "markdown",
   "id": "dcd225c9",
   "metadata": {},
   "source": [
    "## Applications\n",
    "\n",
    "1. [Exercices sur la numération](numeration_exercice.ipynb)"
   ]
  },
  {
   "cell_type": "code",
   "execution_count": null,
   "id": "6095a5cb",
   "metadata": {},
   "outputs": [],
   "source": []
  }
 ],
 "metadata": {
  "celltoolbar": "Format de la Cellule Texte Brut",
  "kernelspec": {
   "display_name": "Python 3",
   "language": "python",
   "name": "python3"
  },
  "language_info": {
   "codemirror_mode": {
    "name": "ipython",
    "version": 3
   },
   "file_extension": ".py",
   "mimetype": "text/x-python",
   "name": "python",
   "nbconvert_exporter": "python",
   "pygments_lexer": "ipython3",
   "version": "3.9.4"
  }
 },
 "nbformat": 4,
 "nbformat_minor": 5
}
