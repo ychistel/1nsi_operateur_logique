{
 "cells": [
  {
   "cell_type": "markdown",
   "id": "e96ad362",
   "metadata": {},
   "source": [
    "# Numération en informatique\n",
    "\n",
    "- L'activité d'introduction à la numération au format pdf : [activité](numeration_activite.pdf)"
   ]
  },
  {
   "cell_type": "markdown",
   "id": "4f62fcf5",
   "metadata": {},
   "source": [
    "## Numération décimale\n",
    "\n",
    "L'écriture décimale, **en base** 10, d'un nombre entier est de la forme: \n",
    "$a_{n} \\times 10^{n}+ \\ldots + a_{2} \\times 10^{2} + a_{1} \\times 10^{1} + a_{0} \\times 10^{0}$\n",
    "\n",
    "On rappelle que : $10^{1}=10$ et $10^{0}=1$.\n",
    "\n",
    "La numération décimale utilise les 10 chiffres : 0, 1, 2, 3, 4, 5, 6, 7, 8 et 9."
   ]
  },
  {
   "cell_type": "raw",
   "id": "b26aafbe",
   "metadata": {
    "raw_mimetype": "text/restructuredtext"
   },
   "source": [
    ".. admonition:: Exemple\n",
    "\n",
    "    Comment se décompose le nombre entier 206 ?\n",
    "\n",
    "    .. math::\n",
    "    \n",
    "        \\begin{align*}\n",
    "        206 &= 2 \\times 100 + 0 \\times 10 + 6 \\times 1\\\\\n",
    "        \\phantom{1204} &= 2 \\times 10^{2} + 0 \\times 10^{1} + 6 \\times 10^{0}\n",
    "        \\end{align*}\n",
    "\n",
    "    On peut représenter cette écriture dans un tableau :\n",
    "\n",
    "    .. table:: Numération décimale\n",
    "        :align: center\n",
    "        \n",
    "        ============== ============== ============== ==============\n",
    "        :math:`10^{3}` :math:`10^{2}` :math:`10^{1}` :math:`10^{0}`\n",
    "        ============== ============== ============== ==============\n",
    "        0              2              0              6\n",
    "        ============== ============== ============== =============="
   ]
  },
  {
   "cell_type": "markdown",
   "id": "062d6272",
   "metadata": {},
   "source": [
    "## Numération binaire\n",
    "\n",
    "La numération binaire utilise seulement les chiffres 0 et 1. Chaque nombre est décomposé avec des puissances de 2.\n",
    "\n",
    "En informatique, chaque chiffre $0$ et $1$ est appelé un **bit** de l'anglais **Bi**nary digi**t**.\n",
    "\n",
    "On appelle **mot binaire** une valeur composée de plusieurs bits.\n",
    "\n",
    "Le bit situé à **gauche** correspond à la plus grande puissance de $2$. C'est le **bit de poids fort**.\n",
    "\n",
    "Le bit situé à **droite** correspond à la plus petite puissance de $2$. C'est le **bit de poids faible**.\n",
    "\n",
    "On rencontre souvent des mots de 8 bits : ils forment un **octet**."
   ]
  },
  {
   "cell_type": "raw",
   "id": "a483fd58",
   "metadata": {
    "raw_mimetype": "text/restructuredtext"
   },
   "source": [
    ".. admonition:: Exemple\n",
    "\n",
    "    Comment se décompose le nombre entier 206 en binaire ?\n",
    "\n",
    "    .. math::\n",
    "    \n",
    "        \\begin{align*}\n",
    "        206 &= 1 \\times 128 + 1 \\times 64 + 1 \\times 8 + 1 \\times 4 + 1 \\times 2 \\\\\n",
    "        \\phantom{206} &= 1 \\times 2^{7} + 1 \\times 2^{6} + 1 \\times 2^{3} + 1 \\times 2^{2} + 1 \\times 2^{1}\n",
    "        \\end{align*}\n",
    "\n",
    "    On peut représenter cette écriture dans un tableau :\n",
    "\n",
    "    .. table:: Numération décimale\n",
    "        :widths: auto\n",
    "        :align: center\n",
    "        \n",
    "        ============= ============= ============= ============= ============= ============= ============= =============\n",
    "        :math:`2^{7}` :math:`2^{6}` :math:`2^{5}` :math:`2^{4}` :math:`2^{3}` :math:`2^{2}` :math:`2^{1}` :math:`2^{0}`\n",
    "        ============= ============= ============= ============= ============= ============= ============= =============\n",
    "        1              1            0              0            1             1             1             0\n",
    "        ============= ============= ============= ============= ============= ============= ============= =============\n",
    "        \n",
    "    Le nombre en écriture décimale :math:`206_{10}` s'écrit en binaire :math:`11001110_{2}`."
   ]
  },
  {
   "cell_type": "raw",
   "id": "887d8ce3",
   "metadata": {
    "raw_mimetype": "text/restructuredtext"
   },
   "source": [
    ".. note::\n",
    "\n",
    "    1. Il existe des *mots binaires* de 16, 32 ou 64 bits.\n",
    "    2. La mémoire et les unités de stockage sont exprimées en octets. Aujourd'hui les volumes sont de l'ordre du tera-octet : :math:`10^{12}` octets !"
   ]
  },
  {
   "cell_type": "markdown",
   "id": "48b54735",
   "metadata": {},
   "source": [
    "## Numération hexadécimale\n",
    "\n",
    "La numération **hexadécimale** est une numération en **base** $16$. Cette numération utilise donc 16 chiffres :\n",
    "\n",
    "- Les 10 chiffres de la numération décimale de 0 à 9;\n",
    "- et les 6 premières lettres de l'alphabet : A, B, C, D, E et F.\n",
    "\n",
    "En notation décimale : $A=10$, $B=11$, $C=12$, $D=13$, $E=14$ et $F=15$.\n",
    "\n",
    "En notation binaire sur 4 bits : $A=1010$, $B=1011$, $C=1100$, $D=1101$, $E=1110$ et $F=1111$."
   ]
  },
  {
   "cell_type": "raw",
   "id": "4f1d94f5",
   "metadata": {
    "raw_mimetype": "text/restructuredtext"
   },
   "source": [
    ".. admonition:: Exemple\n",
    "\n",
    "    On a vu l'écriture du nombre 206 en notation décimale et binaire. \n",
    "\n",
    "    En notation hexadécimale :\n",
    "    \n",
    "    .. math::\n",
    "    \n",
    "        \\begin{align*}\n",
    "        206_{10} &= 12 \\times 16^{1} + 14 \\times 16^{0}\\\\\n",
    "        206_{10} &= CE_{16}\n",
    "        \\end{align*}\n",
    "        \n",
    "    On rappelle que la lettre C représente le nombre 12 et la lettre E représente le nombre 14."
   ]
  }
 ],
 "metadata": {
  "celltoolbar": "Format de la Cellule Texte Brut",
  "kernelspec": {
   "display_name": "Python 3",
   "language": "python",
   "name": "python3"
  },
  "language_info": {
   "codemirror_mode": {
    "name": "ipython",
    "version": 3
   },
   "file_extension": ".py",
   "mimetype": "text/x-python",
   "name": "python",
   "nbconvert_exporter": "python",
   "pygments_lexer": "ipython3",
   "version": "3.9.4"
  }
 },
 "nbformat": 4,
 "nbformat_minor": 5
}
